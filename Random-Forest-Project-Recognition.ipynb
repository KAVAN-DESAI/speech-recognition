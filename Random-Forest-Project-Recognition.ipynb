{
 "cells": [
  {
   "cell_type": "markdown",
   "metadata": {},
   "source": [
    "# The whole approach of the notebook is described as below:\n",
    "\n",
    "1. Loading the data and categorizing the audio into one of the following labels:\n",
    "\n",
    "    ['yes', 'no', 'up', 'down', 'left', 'right', 'on', 'off', 'stop', 'go']\n",
    "2. Having loaded the data, we would be resampling the audio to a sample rate of 8000, we would be mixing the audio, with the help of the background noise,and then would train the data.\n",
    "3. Reducing the dimension to 4000 (earlier it was 8000), and then observing the metrics\n",
    "4. Again, applying the cross-validation technique (on both non-reduced non-dimensional and reduced dimensional data) and , and then comparing the results"
   ]
  },
  {
   "cell_type": "code",
   "execution_count": 1,
   "metadata": {
    "_cell_guid": "b1076dfc-b9ad-4769-8c92-a6c4dae69d19",
    "_uuid": "8f2839f25d086af736a60e9eeb907d3b93b6e0e5",
    "execution": {
     "iopub.execute_input": "2021-05-09T18:25:53.673088Z",
     "iopub.status.busy": "2021-05-09T18:25:53.671888Z",
     "iopub.status.idle": "2021-05-09T18:28:14.223382Z",
     "shell.execute_reply": "2021-05-09T18:28:14.224000Z"
    },
    "papermill": {
     "duration": 140.570516,
     "end_time": "2021-05-09T18:28:14.224319",
     "exception": false,
     "start_time": "2021-05-09T18:25:53.653803",
     "status": "completed"
    },
    "tags": []
   },
   "outputs": [
    {
     "name": "stdout",
     "output_type": "stream",
     "text": [
      "Collecting pyunpack\r\n",
      "  Downloading pyunpack-0.2.2-py2.py3-none-any.whl (3.8 kB)\r\n",
      "Collecting entrypoint2\r\n",
      "  Downloading entrypoint2-0.2.4-py3-none-any.whl (6.2 kB)\r\n",
      "Collecting easyprocess\r\n",
      "  Downloading EasyProcess-0.3-py2.py3-none-any.whl (7.9 kB)\r\n",
      "Installing collected packages: entrypoint2, easyprocess, pyunpack\r\n",
      "Successfully installed easyprocess-0.3 entrypoint2-0.2.4 pyunpack-0.2.2\r\n",
      "Collecting patool\r\n",
      "  Downloading patool-1.12-py2.py3-none-any.whl (77 kB)\r\n",
      "\u001b[K     |████████████████████████████████| 77 kB 927 kB/s \r\n",
      "\u001b[?25hInstalling collected packages: patool\r\n",
      "Successfully installed patool-1.12\r\n",
      "{'right': 2367, 'on': 2367, 'four': 2372, 'no': 2375, 'happy': 1742, 'six': 2369, 'up': 2375, 'one': 2370, 'marvin': 1746, 'yes': 2377, 'stop': 2380, '_background_noise_': 7, 'three': 2356, 'dog': 1746, 'eight': 2352, 'bird': 1731, 'wow': 1745, 'house': 1750, 'seven': 2377, 'nine': 2364, 'five': 2357, 'bed': 1713, 'off': 2357, 'cat': 1733, 'zero': 2376, 'tree': 1733, 'two': 2373, 'down': 2359, 'go': 2372, 'sheila': 1734, 'left': 2353}\n"
     ]
    }
   ],
   "source": [
    "!pip install pyunpack\n",
    "!pip install patool\n",
    "# Extracting the .7z file, as the given file is in .7z format and the notebook is running on kaggle\n",
    "import os\n",
    "from pyunpack import Archive\n",
    "os.system('apt-get install p7zip')\n",
    "import shutil\n",
    "if not os.path.exists('/kaggle/working/train/'):\n",
    "    '''If already, some file is created don't make it\n",
    "    '''\n",
    "    os.makedirs('/kaggle/working/train/')\n",
    "\n",
    "# Extracting the .7z file \n",
    "Archive('../input/tensorflow-speech-recognition-challenge/train.7z').extractall('/kaggle/working/train/')\n",
    "\n",
    "\n",
    "# Checking the number of each file\n",
    "import os\n",
    "path = os.listdir('./train/train/audio/')\n",
    "size = {}\n",
    "for i in path:\n",
    "      size[i] = len(os.listdir('./train/train/audio/'+i))\n",
    "print(size)"
   ]
  },
  {
   "cell_type": "code",
   "execution_count": 2,
   "metadata": {
    "execution": {
     "iopub.execute_input": "2021-05-09T18:28:14.269636Z",
     "iopub.status.busy": "2021-05-09T18:28:14.268756Z",
     "iopub.status.idle": "2021-05-09T18:28:14.272112Z",
     "shell.execute_reply": "2021-05-09T18:28:14.272661Z"
    },
    "papermill": {
     "duration": 0.030275,
     "end_time": "2021-05-09T18:28:14.272840",
     "exception": false,
     "start_time": "2021-05-09T18:28:14.242565",
     "status": "completed"
    },
    "tags": []
   },
   "outputs": [
    {
     "name": "stdout",
     "output_type": "stream",
     "text": [
      "The total labels are:  30\n"
     ]
    }
   ],
   "source": [
    "# The total categories of labels\n",
    "print(\"The total labels are: \",len(os.listdir('./train/train/audio'))-1)  # excluding the _background_noise_"
   ]
  },
  {
   "cell_type": "markdown",
   "metadata": {},
   "source": [
    "## Making the labelled dataset\n",
    "\n",
    "Basically, we have some folders containing the audio files, in which most of them are of fixed duration (i.e of one sec), however, many of them are of the duration less than 1 sec, and the audio dataset is basically taken in a quiet place,however in real life scenario, there is a bit of background noise, and we would be mixing some percentage of background noise to the original model, to make it more robust\n"
   ]
  },
  {
   "cell_type": "code",
   "execution_count": 3,
   "metadata": {
    "execution": {
     "iopub.execute_input": "2021-05-09T18:28:14.327195Z",
     "iopub.status.busy": "2021-05-09T18:28:14.326417Z",
     "iopub.status.idle": "2021-05-09T19:19:51.149432Z",
     "shell.execute_reply": "2021-05-09T19:19:51.150059Z"
    },
    "papermill": {
     "duration": 3096.859089,
     "end_time": "2021-05-09T19:19:51.150361",
     "exception": false,
     "start_time": "2021-05-09T18:28:14.291272",
     "status": "completed"
    },
    "tags": []
   },
   "outputs": [
    {
     "name": "stdout",
     "output_type": "stream",
     "text": [
      "The current label is: yes of: 0\n",
      "The current label is: no of: 1\n",
      "The current label is: up of: 2\n",
      "The current label is: down of: 3\n",
      "The current label is: left of: 4\n",
      "The current label is: right of: 5\n",
      "The current label is: on of: 6\n",
      "The current label is: off of: 7\n",
      "The current label is: stop of: 8\n",
      "The current label is: go of: 9\n",
      "The current label is: unknown of: 10\n",
      "The current label is: unknown of: 10\n",
      "The current label is: unknown of: 10\n",
      "The current label is: unknown of: 10\n",
      "The current label is: unknown of: 10\n",
      "The current label is: unknown of: 10\n",
      "The current label is: unknown of: 10\n",
      "The current label is: unknown of: 10\n",
      "The current label is: unknown of: 10\n",
      "The current label is: unknown of: 10\n",
      "The current label is: unknown of: 10\n",
      "The current label is: unknown of: 10\n",
      "The current label is: unknown of: 10\n",
      "The current label is: unknown of: 10\n",
      "The current label is: unknown of: 10\n",
      "The current label is: unknown of: 10\n",
      "The current label is: unknown of: 10\n",
      "The current label is: unknown of: 10\n",
      "The current label is: unknown of: 10\n",
      "The current label is: unknown of: 10\n"
     ]
    }
   ],
   "source": [
    "import librosa # For loading the audio file\n",
    "\n",
    "labels_to_consider = ['yes', 'no', 'up', 'down', 'left', 'right', 'on', 'off', 'stop', 'go']\n",
    "unknown = [i for i in os.listdir('./train/train/audio') if i not in labels_to_consider and i != '_background_noise_' ]\n",
    "\n",
    "def label_encoder(directory):\n",
    "    '''\n",
    "    Input: labels -> list of labels to be considered\n",
    "           directory -> the folder in which the examples for all the dataset is present\n",
    "           \n",
    "    Output : list containing the entry as: (sample,gruop number)\n",
    "    '''\n",
    "    i = 0\n",
    "    label_encoder ={}\n",
    "    labelled_wave = []\n",
    "    training_data = []\n",
    "    for label in labels_to_consider:\n",
    "        path = os.path.join(directory,label)\n",
    "        label_encoder[label] = i    # Label to encoder\n",
    "        print(\"The current label is: \"+str(label)+\" of: \"+str(i))\n",
    "        i+=1\n",
    "        for audio_file in os.listdir(path):\n",
    "            if audio_file.endswith('.wav'):\n",
    "                samples, sample_rate = librosa.load(os.path.join(os.path.join(directory,label),audio_file))\n",
    "                samples = librosa.resample(samples,sample_rate,8000)\n",
    "            if len(samples)!=8000:\n",
    "                continue\n",
    "            else:\n",
    "                labelled_wave.append([samples,label])\n",
    "                training_data.append(samples)\n",
    "    for label in unknown:\n",
    "                print(\"The current label is: \"+str(\"unknown\"+\" of: \"+str(i)))\n",
    "                label_encoder['unknown'] = i\n",
    "                path = os.path.join(directory,label)\n",
    "                for audio_file in os.listdir(path):\n",
    "                    if audio_file.endswith('.wav'):\n",
    "                        samples, sample_rate = librosa.load(os.path.join(os.path.join(directory,label),audio_file))\n",
    "                        samples = librosa.resample(samples,sample_rate,8000)\n",
    "                    if len(samples)!=8000:\n",
    "                        continue\n",
    "                    else:\n",
    "                        labelled_wave.append([samples,'unknown'])\n",
    "                        training_data.append(samples)\n",
    "    return labelled_wave,training_data,label_encoder\n",
    "labelled_wave,training_data,label_encoder = label_encoder('./train/train/audio')"
   ]
  },
  {
   "cell_type": "markdown",
   "metadata": {},
   "source": [
    "## Adding the background noise\n",
    "\n",
    "We would be adding the random noise to all the audio files, to make it more robust"
   ]
  },
  {
   "cell_type": "code",
   "execution_count": 4,
   "metadata": {
    "execution": {
     "iopub.execute_input": "2021-05-09T19:19:51.209911Z",
     "iopub.status.busy": "2021-05-09T19:19:51.208897Z",
     "iopub.status.idle": "2021-05-09T19:19:57.664707Z",
     "shell.execute_reply": "2021-05-09T19:19:57.663327Z"
    },
    "papermill": {
     "duration": 6.487356,
     "end_time": "2021-05-09T19:19:57.664875",
     "exception": false,
     "start_time": "2021-05-09T19:19:51.177519",
     "status": "completed"
    },
    "tags": []
   },
   "outputs": [],
   "source": [
    "import numpy as np\n",
    "import random\n",
    "def get_random_noise():\n",
    "    ''' This function will be useful for getting the random noise\n",
    "    '''\n",
    "    audios = os.listdir('./train/train/audio/_background_noise_')\n",
    "    noise = random.randint(0,len(audios)-1)\n",
    "    noise,sr = librosa.load('./train/train/audio/_background_noise_/'+audios[noise])\n",
    "    noise = librosa.resample(noise,sr,8000)\n",
    "    start =random.randint(0,noise.shape[0]-8000-1)\n",
    "    return noise[start:start+8000]\n",
    "\n",
    "\n",
    "def mix_audio(data,ratio = 0.1):\n",
    "    ''' This function will mix the original audio with the background noise\n",
    "    '''\n",
    "    noise = get_random_noise()\n",
    "    final_data = []\n",
    "    for i,j in enumerate(data):\n",
    "        final_data.append(j + (ratio*noise))\n",
    "    return final_data\n",
    "final_data = mix_audio(training_data)"
   ]
  },
  {
   "cell_type": "code",
   "execution_count": 5,
   "metadata": {
    "execution": {
     "iopub.execute_input": "2021-05-09T19:19:57.741079Z",
     "iopub.status.busy": "2021-05-09T19:19:57.730518Z",
     "iopub.status.idle": "2021-05-09T19:19:57.931810Z",
     "shell.execute_reply": "2021-05-09T19:19:57.930398Z"
    },
    "papermill": {
     "duration": 0.23868,
     "end_time": "2021-05-09T19:19:57.931972",
     "exception": false,
     "start_time": "2021-05-09T19:19:57.693292",
     "status": "completed"
    },
    "tags": []
   },
   "outputs": [],
   "source": [
    "labels = [i[1] for i in labelled_wave]\n",
    "def remove_not_equal_length(data,labels):\n",
    "    \n",
    "    '''If some array has some inadequate length, we would remove it\n",
    "    '''\n",
    "    final_data = []\n",
    "    for i,j in zip(data,labels):\n",
    "        if len(i)!=8000:\n",
    "            continue\n",
    "        else:\n",
    "            final_data.append([i,j])\n",
    "    return final_data\n",
    "dataset = remove_not_equal_length(final_data,labels)"
   ]
  },
  {
   "cell_type": "code",
   "execution_count": 6,
   "metadata": {
    "execution": {
     "iopub.execute_input": "2021-05-09T19:19:58.001233Z",
     "iopub.status.busy": "2021-05-09T19:19:58.000516Z",
     "iopub.status.idle": "2021-05-09T19:19:58.826966Z",
     "shell.execute_reply": "2021-05-09T19:19:58.827497Z"
    },
    "papermill": {
     "duration": 0.868378,
     "end_time": "2021-05-09T19:19:58.827713",
     "exception": false,
     "start_time": "2021-05-09T19:19:57.959335",
     "status": "completed"
    },
    "tags": []
   },
   "outputs": [],
   "source": [
    "# Traininng data = wav_file\n",
    "# Labels = target\n",
    "wave_file = [i[0] for i in dataset]\n",
    "wave_file = np.reshape(np.array(wave_file),(-1,8000,1))\n",
    "target = [label_encoder[i[1]] for i in dataset]\n",
    "target = np.reshape(target,(-1,1))"
   ]
  },
  {
   "cell_type": "markdown",
   "metadata": {},
   "source": [
    "## Train Test split"
   ]
  },
  {
   "cell_type": "code",
   "execution_count": 7,
   "metadata": {
    "execution": {
     "iopub.execute_input": "2021-05-09T19:19:58.887712Z",
     "iopub.status.busy": "2021-05-09T19:19:58.887029Z",
     "iopub.status.idle": "2021-05-09T19:19:59.774495Z",
     "shell.execute_reply": "2021-05-09T19:19:59.773938Z"
    },
    "papermill": {
     "duration": 0.918981,
     "end_time": "2021-05-09T19:19:59.774674",
     "exception": false,
     "start_time": "2021-05-09T19:19:58.855693",
     "status": "completed"
    },
    "tags": []
   },
   "outputs": [],
   "source": [
    "from sklearn.model_selection import train_test_split\n",
    "X_train,X_test,y_train,y_test = train_test_split(wave_file,target,test_size= 0.15,random_state=98,shuffle=True)"
   ]
  },
  {
   "cell_type": "markdown",
   "metadata": {},
   "source": [
    "## One Hot Encoding"
   ]
  },
  {
   "cell_type": "code",
   "execution_count": 8,
   "metadata": {
    "execution": {
     "iopub.execute_input": "2021-05-09T19:19:59.842012Z",
     "iopub.status.busy": "2021-05-09T19:19:59.841212Z",
     "iopub.status.idle": "2021-05-09T19:20:10.320672Z",
     "shell.execute_reply": "2021-05-09T19:20:10.319924Z"
    },
    "papermill": {
     "duration": 10.512902,
     "end_time": "2021-05-09T19:20:10.320840",
     "exception": false,
     "start_time": "2021-05-09T19:19:59.807938",
     "status": "completed"
    },
    "tags": []
   },
   "outputs": [],
   "source": [
    "import keras\n",
    "y_train = keras.utils.to_categorical(y_train, len(set(labels))+1)\n",
    "y_test = keras.utils.to_categorical(y_test, len(set(labels))+1)"
   ]
  },
  {
   "cell_type": "code",
   "execution_count": 9,
   "metadata": {
    "execution": {
     "iopub.execute_input": "2021-05-09T19:20:10.397396Z",
     "iopub.status.busy": "2021-05-09T19:20:10.396609Z",
     "iopub.status.idle": "2021-05-09T19:20:10.652111Z",
     "shell.execute_reply": "2021-05-09T19:20:10.651012Z"
    },
    "papermill": {
     "duration": 0.294602,
     "end_time": "2021-05-09T19:20:10.652281",
     "exception": false,
     "start_time": "2021-05-09T19:20:10.357679",
     "status": "completed"
    },
    "tags": []
   },
   "outputs": [],
   "source": [
    "training_labels = [np.argmax(i) for i in y_train]\n",
    "testing_labels = [np.argmax(i) for i in y_test]\n",
    "train  = X_train.reshape(-1,8000)\n",
    "test  = X_test.reshape(-1,8000)"
   ]
  },
  {
   "cell_type": "markdown",
   "metadata": {},
   "source": [
    "## Making the model"
   ]
  },
  {
   "cell_type": "code",
   "execution_count": 10,
   "metadata": {
    "execution": {
     "iopub.execute_input": "2021-05-09T19:20:10.727241Z",
     "iopub.status.busy": "2021-05-09T19:20:10.726474Z",
     "iopub.status.idle": "2021-05-09T19:24:50.175904Z",
     "shell.execute_reply": "2021-05-09T19:24:50.176441Z"
    },
    "papermill": {
     "duration": 279.489946,
     "end_time": "2021-05-09T19:24:50.176670",
     "exception": false,
     "start_time": "2021-05-09T19:20:10.686724",
     "status": "completed"
    },
    "tags": []
   },
   "outputs": [
    {
     "data": {
      "text/plain": [
       "RandomForestClassifier(criterion='entropy', max_depth=20, n_estimators=10,\n",
       "                       random_state=42)"
      ]
     },
     "execution_count": 10,
     "metadata": {},
     "output_type": "execute_result"
    }
   ],
   "source": [
    "from sklearn.ensemble import RandomForestClassifier\n",
    "from sklearn.metrics import confusion_matrix\n",
    "classifier = RandomForestClassifier(n_estimators = 10, criterion = 'entropy', random_state = 42,max_depth = 20)\n",
    "classifier.fit(train,training_labels)"
   ]
  },
  {
   "cell_type": "code",
   "execution_count": 11,
   "metadata": {
    "execution": {
     "iopub.execute_input": "2021-05-09T19:24:50.239762Z",
     "iopub.status.busy": "2021-05-09T19:24:50.238991Z",
     "iopub.status.idle": "2021-05-09T19:24:50.532240Z",
     "shell.execute_reply": "2021-05-09T19:24:50.531660Z"
    },
    "papermill": {
     "duration": 0.326718,
     "end_time": "2021-05-09T19:24:50.532402",
     "exception": false,
     "start_time": "2021-05-09T19:24:50.205684",
     "status": "completed"
    },
    "tags": []
   },
   "outputs": [
    {
     "name": "stdout",
     "output_type": "stream",
     "text": [
      "              precision    recall  f1-score   support\n",
      "\n",
      "           0       0.33      0.03      0.05       338\n",
      "           1       0.23      0.04      0.07       307\n",
      "           2       0.50      0.03      0.05       300\n",
      "           3       0.16      0.02      0.03       336\n",
      "           4       0.25      0.01      0.02       319\n",
      "           5       0.23      0.01      0.02       306\n",
      "           6       0.08      0.01      0.01       330\n",
      "           7       0.25      0.01      0.02       310\n",
      "           8       0.33      0.01      0.02       324\n",
      "           9       0.41      0.03      0.06       323\n",
      "          10       0.64      0.98      0.77      5545\n",
      "\n",
      "    accuracy                           0.63      8738\n",
      "   macro avg       0.31      0.11      0.10      8738\n",
      "weighted avg       0.51      0.63      0.50      8738\n",
      "\n",
      "The accuracy score is: 0.6279468986037995\n"
     ]
    }
   ],
   "source": [
    "from sklearn.metrics import classification_report,accuracy_score,f1_score\n",
    "print(classification_report(testing_labels,classifier.predict(test)))\n",
    "print(\"The accuracy score is:\",accuracy_score(testing_labels,classifier.predict(test)))\n",
    "#print(\"The F! score is:\",f1_score(testing_labels,classifier.predict(test)))"
   ]
  },
  {
   "cell_type": "markdown",
   "metadata": {
    "papermill": {
     "duration": 0.030433,
     "end_time": "2021-05-09T19:24:50.592424",
     "exception": false,
     "start_time": "2021-05-09T19:24:50.561991",
     "status": "completed"
    },
    "tags": []
   },
   "source": [
    "## Dimensionality Reduction (8000 -> 4000 Features)"
   ]
  },
  {
   "cell_type": "code",
   "execution_count": 12,
   "metadata": {
    "execution": {
     "iopub.execute_input": "2021-05-09T19:24:50.656629Z",
     "iopub.status.busy": "2021-05-09T19:24:50.655955Z",
     "iopub.status.idle": "2021-05-09T19:31:25.336441Z",
     "shell.execute_reply": "2021-05-09T19:31:25.337445Z"
    },
    "papermill": {
     "duration": 394.716504,
     "end_time": "2021-05-09T19:31:25.337778",
     "exception": false,
     "start_time": "2021-05-09T19:24:50.621274",
     "status": "completed"
    },
    "tags": []
   },
   "outputs": [],
   "source": [
    "from sklearn.decomposition import PCA\n",
    "pca = PCA(n_components = 4000)\n",
    "train_pca = pca.fit_transform(train)\n",
    "test_pca = pca.transform(test)"
   ]
  },
  {
   "cell_type": "code",
   "execution_count": 13,
   "metadata": {
    "execution": {
     "iopub.execute_input": "2021-05-09T19:31:25.462043Z",
     "iopub.status.busy": "2021-05-09T19:31:25.460844Z",
     "iopub.status.idle": "2021-05-09T19:35:14.025132Z",
     "shell.execute_reply": "2021-05-09T19:35:14.025696Z"
    },
    "papermill": {
     "duration": 228.62942,
     "end_time": "2021-05-09T19:35:14.025891",
     "exception": false,
     "start_time": "2021-05-09T19:31:25.396471",
     "status": "completed"
    },
    "tags": []
   },
   "outputs": [
    {
     "data": {
      "text/plain": [
       "RandomForestClassifier(criterion='entropy', max_depth=20, n_estimators=10,\n",
       "                       random_state=42)"
      ]
     },
     "execution_count": 13,
     "metadata": {},
     "output_type": "execute_result"
    }
   ],
   "source": [
    "model_pca = RandomForestClassifier(n_estimators = 10, criterion = 'entropy', random_state = 42,max_depth = 20)\n",
    "model_pca.fit(train_pca,training_labels)"
   ]
  },
  {
   "cell_type": "code",
   "execution_count": 14,
   "metadata": {
    "execution": {
     "iopub.execute_input": "2021-05-09T19:35:14.095156Z",
     "iopub.status.busy": "2021-05-09T19:35:14.094210Z",
     "iopub.status.idle": "2021-05-09T19:35:14.331856Z",
     "shell.execute_reply": "2021-05-09T19:35:14.331118Z"
    },
    "papermill": {
     "duration": 0.275985,
     "end_time": "2021-05-09T19:35:14.332035",
     "exception": false,
     "start_time": "2021-05-09T19:35:14.056050",
     "status": "completed"
    },
    "tags": []
   },
   "outputs": [
    {
     "name": "stdout",
     "output_type": "stream",
     "text": [
      "              precision    recall  f1-score   support\n",
      "\n",
      "           0       0.25      0.02      0.04       338\n",
      "           1       0.22      0.03      0.05       307\n",
      "           2       0.26      0.03      0.05       300\n",
      "           3       0.19      0.02      0.04       336\n",
      "           4       0.10      0.01      0.02       319\n",
      "           5       0.08      0.01      0.02       306\n",
      "           6       0.12      0.01      0.01       330\n",
      "           7       0.17      0.01      0.02       310\n",
      "           8       0.20      0.02      0.03       324\n",
      "           9       0.33      0.03      0.05       323\n",
      "          10       0.64      0.97      0.77      5545\n",
      "\n",
      "    accuracy                           0.62      8738\n",
      "   macro avg       0.23      0.11      0.10      8738\n",
      "weighted avg       0.48      0.62      0.50      8738\n",
      "\n",
      "The accuracy score is: 0.6242847333485924\n"
     ]
    }
   ],
   "source": [
    "print(classification_report(testing_labels,model_pca.predict(test_pca)))\n",
    "print(\"The accuracy score is:\",accuracy_score(testing_labels,model_pca.predict(test_pca)))"
   ]
  },
  {
   "cell_type": "markdown",
   "metadata": {
    "papermill": {
     "duration": 0.033385,
     "end_time": "2021-05-09T19:35:14.397779",
     "exception": false,
     "start_time": "2021-05-09T19:35:14.364394",
     "status": "completed"
    },
    "tags": []
   },
   "source": [
    "## Cross Validation (Comparison with and without Dimensionality reduction)\n",
    "Create two datasets, with dimensionality reduction, and the other one is without dimensionality reduction"
   ]
  },
  {
   "cell_type": "code",
   "execution_count": 15,
   "metadata": {
    "execution": {
     "iopub.execute_input": "2021-05-09T19:35:14.490637Z",
     "iopub.status.busy": "2021-05-09T19:35:14.489875Z",
     "iopub.status.idle": "2021-05-09T19:52:50.757455Z",
     "shell.execute_reply": "2021-05-09T19:52:50.758040Z"
    },
    "papermill": {
     "duration": 1056.325512,
     "end_time": "2021-05-09T19:52:50.758267",
     "exception": false,
     "start_time": "2021-05-09T19:35:14.432755",
     "status": "completed"
    },
    "tags": []
   },
   "outputs": [
    {
     "name": "stdout",
     "output_type": "stream",
     "text": [
      "0.62 accuracy with a standard deviation of 0.00\n"
     ]
    }
   ],
   "source": [
    "from sklearn.model_selection import cross_val_score\n",
    "# without dimensionality reduction\n",
    "scores = cross_val_score(classifier, train, training_labels, cv=5)\n",
    "print(\"%0.2f accuracy with a standard deviation of %0.2f\" % (scores.mean(), scores.std()))"
   ]
  },
  {
   "cell_type": "code",
   "execution_count": 16,
   "metadata": {
    "execution": {
     "iopub.execute_input": "2021-05-09T19:52:50.843266Z",
     "iopub.status.busy": "2021-05-09T19:52:50.842257Z",
     "iopub.status.idle": "2021-05-09T20:07:13.623388Z",
     "shell.execute_reply": "2021-05-09T20:07:13.623932Z"
    },
    "papermill": {
     "duration": 862.835634,
     "end_time": "2021-05-09T20:07:13.624118",
     "exception": false,
     "start_time": "2021-05-09T19:52:50.788484",
     "status": "completed"
    },
    "tags": []
   },
   "outputs": [
    {
     "name": "stdout",
     "output_type": "stream",
     "text": [
      "0.62 accuracy with a standard deviation of 0.00\n"
     ]
    }
   ],
   "source": [
    "from sklearn.model_selection import cross_val_score\n",
    "# with dimensionality reduction\n",
    "scores = cross_val_score(model_pca, train_pca, training_labels, cv=5)\n",
    "print(\"%0.2f accuracy with a standard deviation of %0.2f\" % (scores.mean(), scores.std()))"
   ]
  }
 ],
 "metadata": {
  "kernelspec": {
   "display_name": "Python 3",
   "language": "python",
   "name": "python3"
  },
  "language_info": {
   "codemirror_mode": {
    "name": "ipython",
    "version": 3
   },
   "file_extension": ".py",
   "mimetype": "text/x-python",
   "name": "python",
   "nbconvert_exporter": "python",
   "pygments_lexer": "ipython3",
   "version": "3.7.6"
  },
  "papermill": {
   "default_parameters": {},
   "duration": 6088.741066,
   "end_time": "2021-05-09T20:07:15.674174",
   "environment_variables": {},
   "exception": null,
   "input_path": "__notebook__.ipynb",
   "output_path": "__notebook__.ipynb",
   "parameters": {},
   "start_time": "2021-05-09T18:25:46.933108",
   "version": "2.3.2"
  }
 },
 "nbformat": 4,
 "nbformat_minor": 5
}
