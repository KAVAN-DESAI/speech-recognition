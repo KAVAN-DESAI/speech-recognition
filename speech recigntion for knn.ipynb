{
 "cells": [
  {
   "cell_type": "code",
   "execution_count": 1,
   "id": "helpful-daniel",
   "metadata": {
    "execution": {
     "iopub.execute_input": "2021-05-08T15:43:10.048526Z",
     "iopub.status.busy": "2021-05-08T15:43:10.047302Z",
     "iopub.status.idle": "2021-05-08T15:45:37.720313Z",
     "shell.execute_reply": "2021-05-08T15:45:37.721127Z"
    },
    "papermill": {
     "duration": 147.687693,
     "end_time": "2021-05-08T15:45:37.722094",
     "exception": false,
     "start_time": "2021-05-08T15:43:10.034401",
     "status": "completed"
    },
    "tags": []
   },
   "outputs": [
    {
     "name": "stdout",
     "output_type": "stream",
     "text": [
      "Collecting pyunpack\r\n",
      "  Downloading pyunpack-0.2.2-py2.py3-none-any.whl (3.8 kB)\r\n",
      "Collecting entrypoint2\r\n",
      "  Downloading entrypoint2-0.2.4-py3-none-any.whl (6.2 kB)\r\n",
      "Collecting easyprocess\r\n",
      "  Downloading EasyProcess-0.3-py2.py3-none-any.whl (7.9 kB)\r\n",
      "Installing collected packages: entrypoint2, easyprocess, pyunpack\r\n",
      "Successfully installed easyprocess-0.3 entrypoint2-0.2.4 pyunpack-0.2.2\r\n",
      "Collecting patool\r\n",
      "  Downloading patool-1.12-py2.py3-none-any.whl (77 kB)\r\n",
      "\u001b[K     |████████████████████████████████| 77 kB 940 kB/s \r\n",
      "\u001b[?25hInstalling collected packages: patool\r\n",
      "Successfully installed patool-1.12\r\n",
      "{'house': 1750, 'six': 2369, 'wow': 1745, 'eight': 2352, 'cat': 1733, 'one': 2370, 'four': 2372, 'seven': 2377, 'bed': 1713, 'happy': 1742, '_background_noise_': 7, 'zero': 2376, 'no': 2375, 'two': 2373, 'three': 2356, 'yes': 2377, 'off': 2357, 'on': 2367, 'bird': 1731, 'tree': 1733, 'left': 2353, 'five': 2357, 'down': 2359, 'sheila': 1734, 'up': 2375, 'right': 2367, 'marvin': 1746, 'go': 2372, 'stop': 2380, 'dog': 1746, 'nine': 2364}\n"
     ]
    }
   ],
   "source": [
    "!pip install pyunpack\n",
    "!pip install patool\n",
    "# Extracting the .7z file, as the given file is in .7z format and the notebook is running on kaggle\n",
    "import os\n",
    "from pyunpack import Archive\n",
    "os.system('apt-get install p7zip')\n",
    "import shutil\n",
    "if not os.path.exists('/kaggle/working/train/'):\n",
    "    '''If already, some file is created don't make it\n",
    "    '''\n",
    "    os.makedirs('/kaggle/working/train/')\n",
    "\n",
    "# Extracting the .7z file \n",
    "Archive('../input/tensorflow-speech-recognition-challenge/train.7z').extractall('/kaggle/working/train/')\n",
    "\n",
    "\n",
    "# Checking the number of each file\n",
    "import os\n",
    "path = os.listdir('./train/train/audio/')\n",
    "size = {}\n",
    "for i in path:\n",
    "      size[i] = len(os.listdir('./train/train/audio/'+i))\n",
    "print(size)"
   ]
  },
  {
   "cell_type": "code",
   "execution_count": 2,
   "id": "meaning-matter",
   "metadata": {
    "execution": {
     "iopub.execute_input": "2021-05-08T15:45:37.767731Z",
     "iopub.status.busy": "2021-05-08T15:45:37.766959Z",
     "iopub.status.idle": "2021-05-08T16:36:46.825896Z",
     "shell.execute_reply": "2021-05-08T16:36:46.826763Z"
    },
    "papermill": {
     "duration": 3069.091261,
     "end_time": "2021-05-08T16:36:46.827086",
     "exception": false,
     "start_time": "2021-05-08T15:45:37.735825",
     "status": "completed"
    },
    "tags": []
   },
   "outputs": [
    {
     "name": "stdout",
     "output_type": "stream",
     "text": [
      "The current label is: yes of: 0\n",
      "The current label is: no of: 1\n",
      "The current label is: up of: 2\n",
      "The current label is: down of: 3\n",
      "The current label is: left of: 4\n",
      "The current label is: right of: 5\n",
      "The current label is: on of: 6\n",
      "The current label is: off of: 7\n",
      "The current label is: stop of: 8\n",
      "The current label is: go of: 9\n",
      "The current label is: unknown of: 10\n",
      "The current label is: unknown of: 10\n",
      "The current label is: unknown of: 10\n",
      "The current label is: unknown of: 10\n",
      "The current label is: unknown of: 10\n",
      "The current label is: unknown of: 10\n",
      "The current label is: unknown of: 10\n",
      "The current label is: unknown of: 10\n",
      "The current label is: unknown of: 10\n",
      "The current label is: unknown of: 10\n",
      "The current label is: unknown of: 10\n",
      "The current label is: unknown of: 10\n",
      "The current label is: unknown of: 10\n",
      "The current label is: unknown of: 10\n",
      "The current label is: unknown of: 10\n",
      "The current label is: unknown of: 10\n",
      "The current label is: unknown of: 10\n",
      "The current label is: unknown of: 10\n",
      "The current label is: unknown of: 10\n",
      "The current label is: unknown of: 10\n"
     ]
    }
   ],
   "source": [
    "import librosa # For loading the audio file\n",
    "\n",
    "labels_to_consider = ['yes', 'no', 'up', 'down', 'left', 'right', 'on', 'off', 'stop', 'go']\n",
    "unknown = [i for i in os.listdir('./train/train/audio') if i not in labels_to_consider and i != '_background_noise_' ]\n",
    "\n",
    "def label_encoder(directory):\n",
    "    '''\n",
    "    Input: labels -> list of labels to be considered\n",
    "           directory -> the folder in which the examples for all the dataset is present\n",
    "           \n",
    "    Output : list containing the entry as: (sample,gruop number)\n",
    "    '''\n",
    "    i = 0\n",
    "    label_encoder ={}\n",
    "    labelled_wave = []\n",
    "    training_data = []\n",
    "    for label in labels_to_consider:\n",
    "        path = os.path.join(directory,label)\n",
    "        label_encoder[label] = i    # Label to encoder\n",
    "        print(\"The current label is: \"+str(label)+\" of: \"+str(i))\n",
    "        i+=1\n",
    "        for audio_file in os.listdir(path):\n",
    "            if audio_file.endswith('.wav'):\n",
    "                samples, sample_rate = librosa.load(os.path.join(os.path.join(directory,label),audio_file))\n",
    "                samples = librosa.resample(samples,sample_rate,8000)\n",
    "            if len(samples)!=8000:\n",
    "                continue\n",
    "            else:\n",
    "                labelled_wave.append([samples,label])\n",
    "                training_data.append(samples)\n",
    "    for label in unknown:\n",
    "                print(\"The current label is: \"+str(\"unknown\"+\" of: \"+str(i)))\n",
    "                label_encoder['unknown'] = i\n",
    "                path = os.path.join(directory,label)\n",
    "                for audio_file in os.listdir(path):\n",
    "                    if audio_file.endswith('.wav'):\n",
    "                        samples, sample_rate = librosa.load(os.path.join(os.path.join(directory,label),audio_file))\n",
    "                        samples = librosa.resample(samples,sample_rate,8000)\n",
    "                    if len(samples)!=8000:\n",
    "                        continue\n",
    "                    else:\n",
    "                        labelled_wave.append([samples,'unknown'])\n",
    "                        training_data.append(samples)\n",
    "    return labelled_wave,training_data,label_encoder\n",
    "labelled_wave,training_data,label_encoder = label_encoder('./train/train/audio')"
   ]
  },
  {
   "cell_type": "code",
   "execution_count": 3,
   "id": "italian-twelve",
   "metadata": {
    "execution": {
     "iopub.execute_input": "2021-05-08T16:36:46.875182Z",
     "iopub.status.busy": "2021-05-08T16:36:46.874448Z",
     "iopub.status.idle": "2021-05-08T16:36:53.457172Z",
     "shell.execute_reply": "2021-05-08T16:36:53.457785Z"
    },
    "papermill": {
     "duration": 6.608833,
     "end_time": "2021-05-08T16:36:53.457980",
     "exception": false,
     "start_time": "2021-05-08T16:36:46.849147",
     "status": "completed"
    },
    "tags": []
   },
   "outputs": [],
   "source": [
    "import numpy as np\n",
    "import random\n",
    "def get_random_noise():\n",
    "    ''' This function will be useful for getting the random noise\n",
    "    '''\n",
    "    audios = os.listdir('./train/train/audio/_background_noise_')\n",
    "    noise = random.randint(0,len(audios)-1)\n",
    "    noise,sr = librosa.load('./train/train/audio/_background_noise_/'+audios[noise])\n",
    "    noise = librosa.resample(noise,sr,8000)\n",
    "    start =random.randint(0,noise.shape[0]-8000-1)\n",
    "    return noise[start:start+8000]\n",
    "\n",
    "\n",
    "def mix_audio(data,ratio = 0.1):\n",
    "    ''' This function will mix the original audio with the background noise\n",
    "    '''\n",
    "    noise = get_random_noise()\n",
    "    final_data = []\n",
    "    for i,j in enumerate(data):\n",
    "        final_data.append(j + (ratio*noise))\n",
    "    return final_data\n",
    "final_data = mix_audio(training_data)"
   ]
  },
  {
   "cell_type": "code",
   "execution_count": 4,
   "id": "sharp-sister",
   "metadata": {
    "execution": {
     "iopub.execute_input": "2021-05-08T16:36:53.505640Z",
     "iopub.status.busy": "2021-05-08T16:36:53.504974Z",
     "iopub.status.idle": "2021-05-08T16:36:53.565703Z",
     "shell.execute_reply": "2021-05-08T16:36:53.566156Z"
    },
    "papermill": {
     "duration": 0.086363,
     "end_time": "2021-05-08T16:36:53.566333",
     "exception": false,
     "start_time": "2021-05-08T16:36:53.479970",
     "status": "completed"
    },
    "tags": []
   },
   "outputs": [],
   "source": [
    "labels = [i[1] for i in labelled_wave]\n",
    "def remove_not_equal_length(data,labels):\n",
    "    \n",
    "    '''If some array has some inadequate length, we would remove it\n",
    "    '''\n",
    "    final_data = []\n",
    "    for i,j in zip(data,labels):\n",
    "        if len(i)!=8000:\n",
    "            continue\n",
    "        else:\n",
    "            final_data.append([i,j])\n",
    "    return final_data\n",
    "dataset = remove_not_equal_length(final_data,labels)"
   ]
  },
  {
   "cell_type": "code",
   "execution_count": 5,
   "id": "southern-center",
   "metadata": {
    "execution": {
     "iopub.execute_input": "2021-05-08T16:36:53.613046Z",
     "iopub.status.busy": "2021-05-08T16:36:53.612417Z",
     "iopub.status.idle": "2021-05-08T16:37:03.089801Z",
     "shell.execute_reply": "2021-05-08T16:37:03.089054Z"
    },
    "papermill": {
     "duration": 9.501907,
     "end_time": "2021-05-08T16:37:03.089955",
     "exception": false,
     "start_time": "2021-05-08T16:36:53.588048",
     "status": "completed"
    },
    "tags": []
   },
   "outputs": [],
   "source": [
    "# Traininng data = wav_file\n",
    "# Labels = target\n",
    "wave_file = [i[0] for i in dataset]\n",
    "wave_file = np.reshape(np.array(wave_file),(-1,8000,1))\n",
    "target = [label_encoder[i[1]] for i in dataset]\n",
    "target = np.reshape(target,(-1,1))\n",
    "from sklearn.model_selection import train_test_split\n",
    "X_train,X_test,y_train,y_test = train_test_split(wave_file,target,test_size= 0.15,random_state=98,shuffle=True)\n",
    "import keras\n",
    "y_train = keras.utils.to_categorical(y_train, len(set(labels))+1)\n",
    "y_test = keras.utils.to_categorical(y_test, len(set(labels))+1)\n",
    "training_labels = [np.argmax(i) for i in y_train]\n",
    "testing_labels = [np.argmax(i) for i in y_test]\n",
    "train  = X_train.reshape(-1,8000)\n",
    "test  = X_test.reshape(-1,8000)"
   ]
  },
  {
   "cell_type": "markdown",
   "id": "antique-combat",
   "metadata": {
    "papermill": {
     "duration": 0.021431,
     "end_time": "2021-05-08T16:37:03.133765",
     "exception": false,
     "start_time": "2021-05-08T16:37:03.112334",
     "status": "completed"
    },
    "tags": []
   },
   "source": [
    "## KNN"
   ]
  },
  {
   "cell_type": "code",
   "execution_count": 6,
   "id": "understood-celebration",
   "metadata": {
    "execution": {
     "iopub.execute_input": "2021-05-08T16:37:03.184687Z",
     "iopub.status.busy": "2021-05-08T16:37:03.183633Z",
     "iopub.status.idle": "2021-05-08T16:37:03.554413Z",
     "shell.execute_reply": "2021-05-08T16:37:03.555163Z"
    },
    "papermill": {
     "duration": 0.3993,
     "end_time": "2021-05-08T16:37:03.555364",
     "exception": false,
     "start_time": "2021-05-08T16:37:03.156064",
     "status": "completed"
    },
    "tags": []
   },
   "outputs": [
    {
     "data": {
      "text/plain": [
       "KNeighborsClassifier()"
      ]
     },
     "execution_count": 6,
     "metadata": {},
     "output_type": "execute_result"
    }
   ],
   "source": [
    "from sklearn.neighbors import KNeighborsClassifier\n",
    "model = KNeighborsClassifier()\n",
    "model.fit(train,training_labels)"
   ]
  },
  {
   "cell_type": "code",
   "execution_count": 7,
   "id": "lovely-hardware",
   "metadata": {
    "execution": {
     "iopub.execute_input": "2021-05-08T16:37:03.605741Z",
     "iopub.status.busy": "2021-05-08T16:37:03.605054Z",
     "iopub.status.idle": "2021-05-08T16:41:27.417137Z",
     "shell.execute_reply": "2021-05-08T16:41:27.417685Z"
    },
    "papermill": {
     "duration": 263.840224,
     "end_time": "2021-05-08T16:41:27.417905",
     "exception": false,
     "start_time": "2021-05-08T16:37:03.577681",
     "status": "completed"
    },
    "tags": []
   },
   "outputs": [
    {
     "name": "stdout",
     "output_type": "stream",
     "text": [
      "              precision    recall  f1-score   support\n",
      "\n",
      "           0       0.08      0.07      0.08       338\n",
      "           1       0.08      0.05      0.06       307\n",
      "           2       0.07      0.06      0.06       300\n",
      "           3       0.06      0.01      0.02       336\n",
      "           4       0.03      0.02      0.02       319\n",
      "           5       0.09      0.03      0.04       306\n",
      "           6       0.11      0.02      0.04       330\n",
      "           7       0.17      0.06      0.09       310\n",
      "           8       0.10      0.03      0.04       324\n",
      "           9       0.09      0.03      0.05       323\n",
      "          10       0.65      0.85      0.74      5545\n",
      "\n",
      "    accuracy                           0.56      8738\n",
      "   macro avg       0.14      0.11      0.11      8738\n",
      "weighted avg       0.44      0.56      0.49      8738\n",
      "\n",
      "The accuracy score is: 0.5551613641565576\n"
     ]
    }
   ],
   "source": [
    "from sklearn.metrics import classification_report,accuracy_score,f1_score\n",
    "print(classification_report(testing_labels,model.predict(test)))\n",
    "print(\"The accuracy score is:\",accuracy_score(testing_labels,model.predict(test)))\n",
    "#print(\"The F! score is:\",f1_score(testing_labels,classifier.predict(test)))"
   ]
  },
  {
   "cell_type": "code",
   "execution_count": 8,
   "id": "detailed-windsor",
   "metadata": {
    "execution": {
     "iopub.execute_input": "2021-05-08T16:41:27.471962Z",
     "iopub.status.busy": "2021-05-08T16:41:27.470798Z",
     "iopub.status.idle": "2021-05-08T16:41:32.236150Z",
     "shell.execute_reply": "2021-05-08T16:41:32.235491Z"
    },
    "papermill": {
     "duration": 4.794512,
     "end_time": "2021-05-08T16:41:32.236313",
     "exception": false,
     "start_time": "2021-05-08T16:41:27.441801",
     "status": "completed"
    },
    "tags": []
   },
   "outputs": [],
   "source": [
    "import pickle\n",
    "filename = 'finalized_model.sav'\n",
    "pickle.dump(model,open(filename, 'wb'))"
   ]
  },
  {
   "cell_type": "code",
   "execution_count": null,
   "id": "european-turning",
   "metadata": {
    "papermill": {
     "duration": 0.101268,
     "end_time": "2021-05-08T16:41:32.394756",
     "exception": false,
     "start_time": "2021-05-08T16:41:32.293488",
     "status": "completed"
    },
    "tags": []
   },
   "outputs": [],
   "source": []
  }
 ],
 "metadata": {
  "kernelspec": {
   "display_name": "Python 3",
   "language": "python",
   "name": "python3"
  },
  "language_info": {
   "codemirror_mode": {
    "name": "ipython",
    "version": 3
   },
   "file_extension": ".py",
   "mimetype": "text/x-python",
   "name": "python",
   "nbconvert_exporter": "python",
   "pygments_lexer": "ipython3",
   "version": "3.7.10"
  },
  "papermill": {
   "default_parameters": {},
   "duration": 3513.112368,
   "end_time": "2021-05-08T16:41:35.432492",
   "environment_variables": {},
   "exception": null,
   "input_path": "__notebook__.ipynb",
   "output_path": "__notebook__.ipynb",
   "parameters": {},
   "start_time": "2021-05-08T15:43:02.320124",
   "version": "2.3.3"
  }
 },
 "nbformat": 4,
 "nbformat_minor": 5
}
