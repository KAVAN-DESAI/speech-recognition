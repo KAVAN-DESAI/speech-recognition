{
 "cells": [
  {
   "cell_type": "markdown",
   "id": "sorted-accident",
   "metadata": {
    "papermill": {
     "duration": 0.012808,
     "end_time": "2021-05-09T06:33:10.613574",
     "exception": false,
     "start_time": "2021-05-09T06:33:10.600766",
     "status": "completed"
    },
    "tags": []
   },
   "source": [
    "### Extracting the files"
   ]
  },
  {
   "cell_type": "code",
   "execution_count": 1,
   "id": "imperial-alcohol",
   "metadata": {
    "execution": {
     "iopub.execute_input": "2021-05-09T06:33:10.651674Z",
     "iopub.status.busy": "2021-05-09T06:33:10.651129Z",
     "iopub.status.idle": "2021-05-09T06:35:37.478415Z",
     "shell.execute_reply": "2021-05-09T06:35:37.479047Z"
    },
    "papermill": {
     "duration": 146.854166,
     "end_time": "2021-05-09T06:35:37.479366",
     "exception": false,
     "start_time": "2021-05-09T06:33:10.625200",
     "status": "completed"
    },
    "tags": []
   },
   "outputs": [
    {
     "name": "stdout",
     "output_type": "stream",
     "text": [
      "Collecting pyunpack\r\n",
      "  Downloading pyunpack-0.2.2-py2.py3-none-any.whl (3.8 kB)\r\n",
      "Collecting entrypoint2\r\n",
      "  Downloading entrypoint2-0.2.4-py3-none-any.whl (6.2 kB)\r\n",
      "Collecting easyprocess\r\n",
      "  Downloading EasyProcess-0.3-py2.py3-none-any.whl (7.9 kB)\r\n",
      "Installing collected packages: entrypoint2, easyprocess, pyunpack\r\n",
      "Successfully installed easyprocess-0.3 entrypoint2-0.2.4 pyunpack-0.2.2\r\n",
      "Collecting patool\r\n",
      "  Downloading patool-1.12-py2.py3-none-any.whl (77 kB)\r\n",
      "\u001b[K     |████████████████████████████████| 77 kB 937 kB/s \r\n",
      "\u001b[?25hInstalling collected packages: patool\r\n",
      "Successfully installed patool-1.12\r\n",
      "{'stop': 2380, 'cat': 1733, 'left': 2353, 'up': 2375, 'bird': 1731, 'five': 2357, 'bed': 1713, 'house': 1750, 'marvin': 1746, 'yes': 2377, 'two': 2373, 'on': 2367, 'wow': 1745, 'six': 2369, 'four': 2372, 'sheila': 1734, 'tree': 1733, 'zero': 2376, 'dog': 1746, 'down': 2359, 'right': 2367, 'off': 2357, 'go': 2372, 'no': 2375, 'three': 2356, '_background_noise_': 7, 'happy': 1742, 'seven': 2377, 'nine': 2364, 'one': 2370, 'eight': 2352}\n"
     ]
    }
   ],
   "source": [
    "!pip install pyunpack\n",
    "!pip install patool\n",
    "# Extracting the .7z file, as the given file is in .7z format and the notebook is running on kaggle\n",
    "import os\n",
    "from pyunpack import Archive\n",
    "os.system('apt-get install p7zip')\n",
    "import shutil\n",
    "if not os.path.exists('/kaggle/working/train/'):\n",
    "    '''If already, some file is created don't make it\n",
    "    '''\n",
    "    os.makedirs('/kaggle/working/train/')\n",
    "\n",
    "# Extracting the .7z file \n",
    "Archive('../input/tensorflow-speech-recognition-challenge/train.7z').extractall('/kaggle/working/train/')\n",
    "\n",
    "\n",
    "# Checking the number of each file\n",
    "import os\n",
    "path = os.listdir('./train/train/audio/')\n",
    "size = {}\n",
    "for i in path:\n",
    "      size[i] = len(os.listdir('./train/train/audio/'+i))\n",
    "print(size)"
   ]
  },
  {
   "cell_type": "markdown",
   "id": "numeric-statement",
   "metadata": {
    "papermill": {
     "duration": 0.01546,
     "end_time": "2021-05-09T06:35:37.511966",
     "exception": false,
     "start_time": "2021-05-09T06:35:37.496506",
     "status": "completed"
    },
    "tags": []
   },
   "source": [
    "## a. Making the labelled dataset\n",
    "\n",
    "### 1. What do we have now?\n",
    "\n",
    "Basically, we have some folders containing the audio files, in which most of them are of fixed duration (i.e of one sec), however, many of them are of the duration less than 1 sec, and the audio dataset is basically taken in a quiet place,however in real life scenario, there is a bit of background noise, and we would be mixing some percentage of background noise to the original model, to make it more robust\n"
   ]
  },
  {
   "cell_type": "code",
   "execution_count": 2,
   "id": "collectible-confidence",
   "metadata": {
    "execution": {
     "iopub.execute_input": "2021-05-09T06:35:37.548963Z",
     "iopub.status.busy": "2021-05-09T06:35:37.548120Z",
     "iopub.status.idle": "2021-05-09T06:35:37.553159Z",
     "shell.execute_reply": "2021-05-09T06:35:37.552540Z"
    },
    "papermill": {
     "duration": 0.025108,
     "end_time": "2021-05-09T06:35:37.553301",
     "exception": false,
     "start_time": "2021-05-09T06:35:37.528193",
     "status": "completed"
    },
    "tags": []
   },
   "outputs": [
    {
     "name": "stdout",
     "output_type": "stream",
     "text": [
      "The total labels are:  30\n"
     ]
    }
   ],
   "source": [
    "# The total categories of labels\n",
    "print(\"The total labels are: \",len(os.listdir('./train/train/audio'))-1)  # excluding the _background_noise_"
   ]
  },
  {
   "cell_type": "code",
   "execution_count": 3,
   "id": "general-password",
   "metadata": {
    "execution": {
     "iopub.execute_input": "2021-05-09T06:35:37.590381Z",
     "iopub.status.busy": "2021-05-09T06:35:37.589570Z",
     "iopub.status.idle": "2021-05-09T06:35:37.596663Z",
     "shell.execute_reply": "2021-05-09T06:35:37.596201Z"
    },
    "papermill": {
     "duration": 0.02706,
     "end_time": "2021-05-09T06:35:37.596771",
     "exception": false,
     "start_time": "2021-05-09T06:35:37.569711",
     "status": "completed"
    },
    "tags": []
   },
   "outputs": [
    {
     "data": {
      "text/plain": [
       "['stop', 'cat', 'left', 'up', 'bird', 'five', 'bed', 'house']"
      ]
     },
     "execution_count": 3,
     "metadata": {},
     "output_type": "execute_result"
    }
   ],
   "source": [
    "[i for i in os.listdir('./train/train/audio')[:8] if i !='_background_noise_']"
   ]
  },
  {
   "cell_type": "code",
   "execution_count": 4,
   "id": "metric-atlanta",
   "metadata": {
    "execution": {
     "iopub.execute_input": "2021-05-09T06:35:37.642189Z",
     "iopub.status.busy": "2021-05-09T06:35:37.641558Z",
     "iopub.status.idle": "2021-05-09T07:21:49.561076Z",
     "shell.execute_reply": "2021-05-09T07:21:49.560491Z"
    },
    "papermill": {
     "duration": 2771.947458,
     "end_time": "2021-05-09T07:21:49.561240",
     "exception": false,
     "start_time": "2021-05-09T06:35:37.613782",
     "status": "completed"
    },
    "tags": []
   },
   "outputs": [
    {
     "name": "stdout",
     "output_type": "stream",
     "text": [
      "The current label is: yes of: 0\n",
      "The current label is: no of: 1\n",
      "The current label is: up of: 2\n",
      "The current label is: down of: 3\n",
      "The current label is: left of: 4\n",
      "The current label is: right of: 5\n",
      "The current label is: on of: 6\n",
      "The current label is: off of: 7\n",
      "The current label is: stop of: 8\n",
      "The current label is: go of: 9\n",
      "The current label is: unknown of: 10\n",
      "The current label is: unknown of: 10\n",
      "The current label is: unknown of: 10\n",
      "The current label is: unknown of: 10\n",
      "The current label is: unknown of: 10\n",
      "The current label is: unknown of: 10\n",
      "The current label is: unknown of: 10\n",
      "The current label is: unknown of: 10\n",
      "The current label is: unknown of: 10\n",
      "The current label is: unknown of: 10\n",
      "The current label is: unknown of: 10\n",
      "The current label is: unknown of: 10\n",
      "The current label is: unknown of: 10\n",
      "The current label is: unknown of: 10\n",
      "The current label is: unknown of: 10\n",
      "The current label is: unknown of: 10\n",
      "The current label is: unknown of: 10\n",
      "The current label is: unknown of: 10\n",
      "The current label is: unknown of: 10\n",
      "The current label is: unknown of: 10\n"
     ]
    }
   ],
   "source": [
    "import librosa # For loading the audio file\n",
    "\n",
    "labels_to_consider = ['yes', 'no', 'up', 'down', 'left', 'right', 'on', 'off', 'stop', 'go']\n",
    "unknown = [i for i in os.listdir('./train/train/audio') if i not in labels_to_consider and i != '_background_noise_' ]\n",
    "\n",
    "def label_encoder(directory):\n",
    "    '''\n",
    "    Input: labels -> list of labels to be considered\n",
    "           directory -> the folder in which the examples for all the dataset is present\n",
    "           \n",
    "    Output : list containing the entry as: (sample,gruop number)\n",
    "    '''\n",
    "    i = 0\n",
    "    label_encoder ={}\n",
    "    labelled_wave = []\n",
    "    training_data = []\n",
    "    for label in labels_to_consider:\n",
    "        path = os.path.join(directory,label)\n",
    "        label_encoder[label] = i    # Label to encoder\n",
    "        print(\"The current label is: \"+str(label)+\" of: \"+str(i))\n",
    "        i+=1\n",
    "        for audio_file in os.listdir(path):\n",
    "            if audio_file.endswith('.wav'):\n",
    "                samples, sample_rate = librosa.load(os.path.join(os.path.join(directory,label),audio_file))\n",
    "                samples = librosa.resample(samples,sample_rate,8000)\n",
    "            if len(samples)!=8000:\n",
    "                continue\n",
    "            else:\n",
    "                labelled_wave.append([samples,label])\n",
    "                training_data.append(samples)\n",
    "    for label in unknown:\n",
    "                print(\"The current label is: \"+str(\"unknown\"+\" of: \"+str(i)))\n",
    "                label_encoder['unknown'] = i\n",
    "                path = os.path.join(directory,label)\n",
    "                for audio_file in os.listdir(path):\n",
    "                    if audio_file.endswith('.wav'):\n",
    "                        samples, sample_rate = librosa.load(os.path.join(os.path.join(directory,label),audio_file))\n",
    "                        samples = librosa.resample(samples,sample_rate,8000)\n",
    "                    if len(samples)!=8000:\n",
    "                        continue\n",
    "                    else:\n",
    "                        labelled_wave.append([samples,'unknown'])\n",
    "                        training_data.append(samples)\n",
    "    return labelled_wave,training_data,label_encoder\n",
    "labelled_wave,training_data,label_encoder = label_encoder('./train/train/audio')"
   ]
  },
  {
   "cell_type": "code",
   "execution_count": 5,
   "id": "little-stone",
   "metadata": {
    "execution": {
     "iopub.execute_input": "2021-05-09T07:21:49.653865Z",
     "iopub.status.busy": "2021-05-09T07:21:49.652967Z",
     "iopub.status.idle": "2021-05-09T07:21:55.089101Z",
     "shell.execute_reply": "2021-05-09T07:21:55.088155Z"
    },
    "papermill": {
     "duration": 5.499823,
     "end_time": "2021-05-09T07:21:55.089239",
     "exception": false,
     "start_time": "2021-05-09T07:21:49.589416",
     "status": "completed"
    },
    "tags": []
   },
   "outputs": [],
   "source": [
    "import numpy as np\n",
    "import random\n",
    "def get_random_noise():\n",
    "    ''' This function will be useful for getting the random noise\n",
    "    '''\n",
    "    audios = os.listdir('./train/train/audio/_background_noise_')\n",
    "    noise = random.randint(0,len(audios)-1)\n",
    "    noise,sr = librosa.load('./train/train/audio/_background_noise_/'+audios[noise])\n",
    "    noise = librosa.resample(noise,sr,8000)\n",
    "    start =random.randint(0,noise.shape[0]-8000-1)\n",
    "    return noise[start:start+8000]\n",
    "\n",
    "\n",
    "def mix_audio(data,ratio = 0.1):\n",
    "    ''' This function will mix the original audio with the background noise\n",
    "    '''\n",
    "    noise = get_random_noise()\n",
    "    final_data = []\n",
    "    for i,j in enumerate(data):\n",
    "        final_data.append(j + (ratio*noise))\n",
    "    return final_data\n",
    "final_data = mix_audio(training_data)"
   ]
  },
  {
   "cell_type": "code",
   "execution_count": 6,
   "id": "earlier-charity",
   "metadata": {
    "execution": {
     "iopub.execute_input": "2021-05-09T07:21:55.341302Z",
     "iopub.status.busy": "2021-05-09T07:21:55.335305Z",
     "iopub.status.idle": "2021-05-09T07:21:55.343781Z",
     "shell.execute_reply": "2021-05-09T07:21:55.344179Z"
    },
    "papermill": {
     "duration": 0.227834,
     "end_time": "2021-05-09T07:21:55.344333",
     "exception": false,
     "start_time": "2021-05-09T07:21:55.116499",
     "status": "completed"
    },
    "tags": []
   },
   "outputs": [],
   "source": [
    "labels = [i[1] for i in labelled_wave]\n",
    "def remove_not_equal_length(data,labels):\n",
    "    \n",
    "    '''If some array has some inadequate length, we would remove it\n",
    "    '''\n",
    "    final_data = []\n",
    "    for i,j in zip(data,labels):\n",
    "        if len(i)!=8000:\n",
    "            continue\n",
    "        else:\n",
    "            final_data.append([i,j])\n",
    "    return final_data\n",
    "dataset = remove_not_equal_length(final_data,labels)"
   ]
  },
  {
   "cell_type": "code",
   "execution_count": 7,
   "id": "beautiful-transsexual",
   "metadata": {
    "execution": {
     "iopub.execute_input": "2021-05-09T07:21:55.407806Z",
     "iopub.status.busy": "2021-05-09T07:21:55.406601Z",
     "iopub.status.idle": "2021-05-09T07:21:56.026016Z",
     "shell.execute_reply": "2021-05-09T07:21:56.025494Z"
    },
    "papermill": {
     "duration": 0.655576,
     "end_time": "2021-05-09T07:21:56.026155",
     "exception": false,
     "start_time": "2021-05-09T07:21:55.370579",
     "status": "completed"
    },
    "tags": []
   },
   "outputs": [],
   "source": [
    "# Traininng data = wav_file\n",
    "# Labels = target\n",
    "wave_file = [i[0] for i in dataset]\n",
    "wave_file = np.reshape(np.array(wave_file),(-1,8000,1))\n",
    "target = [label_encoder[i[1]] for i in dataset]\n",
    "target = np.reshape(target,(-1,1))"
   ]
  },
  {
   "cell_type": "code",
   "execution_count": 8,
   "id": "prepared-angola",
   "metadata": {
    "execution": {
     "iopub.execute_input": "2021-05-09T07:21:56.086059Z",
     "iopub.status.busy": "2021-05-09T07:21:56.084916Z",
     "iopub.status.idle": "2021-05-09T07:21:57.303061Z",
     "shell.execute_reply": "2021-05-09T07:21:57.303460Z"
    },
    "papermill": {
     "duration": 1.251802,
     "end_time": "2021-05-09T07:21:57.303639",
     "exception": false,
     "start_time": "2021-05-09T07:21:56.051837",
     "status": "completed"
    },
    "tags": []
   },
   "outputs": [],
   "source": [
    "from sklearn.model_selection import train_test_split\n",
    "X_train,X_test,y_train,y_test = train_test_split(wave_file,target,test_size= 0.15,random_state=98,shuffle=True)"
   ]
  },
  {
   "cell_type": "code",
   "execution_count": 9,
   "id": "boxed-emission",
   "metadata": {
    "execution": {
     "iopub.execute_input": "2021-05-09T07:21:57.358606Z",
     "iopub.status.busy": "2021-05-09T07:21:57.358120Z",
     "iopub.status.idle": "2021-05-09T07:22:03.120783Z",
     "shell.execute_reply": "2021-05-09T07:22:03.119815Z"
    },
    "papermill": {
     "duration": 5.791597,
     "end_time": "2021-05-09T07:22:03.120938",
     "exception": false,
     "start_time": "2021-05-09T07:21:57.329341",
     "status": "completed"
    },
    "tags": []
   },
   "outputs": [],
   "source": [
    "import keras\n",
    "y_train = keras.utils.to_categorical(y_train, len(set(labels))+1)\n",
    "y_test = keras.utils.to_categorical(y_test, len(set(labels))+1)"
   ]
  },
  {
   "cell_type": "code",
   "execution_count": 10,
   "id": "constant-change",
   "metadata": {
    "execution": {
     "iopub.execute_input": "2021-05-09T07:22:03.182992Z",
     "iopub.status.busy": "2021-05-09T07:22:03.182214Z",
     "iopub.status.idle": "2021-05-09T07:22:03.185178Z",
     "shell.execute_reply": "2021-05-09T07:22:03.185611Z"
    },
    "papermill": {
     "duration": 0.037316,
     "end_time": "2021-05-09T07:22:03.185817",
     "exception": false,
     "start_time": "2021-05-09T07:22:03.148501",
     "status": "completed"
    },
    "tags": []
   },
   "outputs": [
    {
     "data": {
      "text/plain": [
       "11"
      ]
     },
     "execution_count": 10,
     "metadata": {},
     "output_type": "execute_result"
    }
   ],
   "source": [
    "len(set(labels))"
   ]
  },
  {
   "cell_type": "code",
   "execution_count": 11,
   "id": "charitable-victoria",
   "metadata": {
    "execution": {
     "iopub.execute_input": "2021-05-09T07:22:03.259084Z",
     "iopub.status.busy": "2021-05-09T07:22:03.258133Z",
     "iopub.status.idle": "2021-05-09T07:22:06.287139Z",
     "shell.execute_reply": "2021-05-09T07:22:06.286395Z"
    },
    "papermill": {
     "duration": 3.073103,
     "end_time": "2021-05-09T07:22:06.287327",
     "exception": false,
     "start_time": "2021-05-09T07:22:03.214224",
     "status": "completed"
    },
    "tags": []
   },
   "outputs": [
    {
     "name": "stdout",
     "output_type": "stream",
     "text": [
      "Model: \"model\"\n",
      "_________________________________________________________________\n",
      "Layer (type)                 Output Shape              Param #   \n",
      "=================================================================\n",
      "input_1 (InputLayer)         [(None, 8000, 1)]         0         \n",
      "_________________________________________________________________\n",
      "conv1d (Conv1D)              (None, 7990, 8)           96        \n",
      "_________________________________________________________________\n",
      "max_pooling1d (MaxPooling1D) (None, 3995, 8)           0         \n",
      "_________________________________________________________________\n",
      "dropout (Dropout)            (None, 3995, 8)           0         \n",
      "_________________________________________________________________\n",
      "conv1d_1 (Conv1D)            (None, 3989, 16)          912       \n",
      "_________________________________________________________________\n",
      "max_pooling1d_1 (MaxPooling1 (None, 1994, 16)          0         \n",
      "_________________________________________________________________\n",
      "dropout_1 (Dropout)          (None, 1994, 16)          0         \n",
      "_________________________________________________________________\n",
      "conv1d_2 (Conv1D)            (None, 1990, 31)          2511      \n",
      "_________________________________________________________________\n",
      "max_pooling1d_2 (MaxPooling1 (None, 995, 31)           0         \n",
      "_________________________________________________________________\n",
      "dropout_2 (Dropout)          (None, 995, 31)           0         \n",
      "_________________________________________________________________\n",
      "conv1d_3 (Conv1D)            (None, 991, 64)           9984      \n",
      "_________________________________________________________________\n",
      "max_pooling1d_3 (MaxPooling1 (None, 495, 64)           0         \n",
      "_________________________________________________________________\n",
      "dropout_3 (Dropout)          (None, 495, 64)           0         \n",
      "_________________________________________________________________\n",
      "conv1d_4 (Conv1D)            (None, 493, 128)          24704     \n",
      "_________________________________________________________________\n",
      "max_pooling1d_4 (MaxPooling1 (None, 246, 128)          0         \n",
      "_________________________________________________________________\n",
      "flatten (Flatten)            (None, 31488)             0         \n",
      "_________________________________________________________________\n",
      "dense (Dense)                (None, 256)               8061184   \n",
      "_________________________________________________________________\n",
      "dropout_4 (Dropout)          (None, 256)               0         \n",
      "_________________________________________________________________\n",
      "dense_1 (Dense)              (None, 128)               32896     \n",
      "_________________________________________________________________\n",
      "dropout_5 (Dropout)          (None, 128)               0         \n",
      "_________________________________________________________________\n",
      "dense_2 (Dense)              (None, 12)                1548      \n",
      "=================================================================\n",
      "Total params: 8,133,835\n",
      "Trainable params: 8,133,835\n",
      "Non-trainable params: 0\n",
      "_________________________________________________________________\n"
     ]
    }
   ],
   "source": [
    "from tensorflow.keras import layers,Input\n",
    "import tensorflow as tf\n",
    "\n",
    "def model(parameters,input_shape):\n",
    "    \n",
    "    '''Return the model, containing the parameters,\n",
    "    parameters would be a dictionary\n",
    "    '''\n",
    "    \n",
    "    lr = parameters['lr']\n",
    "    drop_out_rate = parameters['drop_out']\n",
    "    input_tensor = Input(shape=(input_shape))\n",
    "    x = layers.Conv1D(8, 11, padding='valid', activation='relu', strides=1)(input_tensor)\n",
    "    x = layers.MaxPooling1D(2)(x)\n",
    "    x = layers.Dropout(drop_out_rate)(x)\n",
    "    x = layers.Conv1D(16, 7, padding='valid', activation='relu', strides=1)(x)\n",
    "    x = layers.MaxPooling1D(2)(x)\n",
    "    x = layers.Dropout(drop_out_rate)(x)\n",
    "    x = layers.Conv1D(31, 5, padding='valid', activation='relu', strides=1)(x)\n",
    "    x = layers.MaxPooling1D(2)(x)\n",
    "    x = layers.Dropout(drop_out_rate)(x)\n",
    "    x = layers.Conv1D(64, 5, padding='valid', activation='relu', strides=1)(x)\n",
    "    x = layers.MaxPooling1D(2)(x)\n",
    "    x = layers.Dropout(drop_out_rate)(x)\n",
    "    x = layers.Conv1D(128, 3, padding='valid', activation='relu', strides=1)(x)\n",
    "    x = layers.MaxPooling1D(2)(x)\n",
    "    x = layers.Flatten()(x)\n",
    "    x = layers.Dense(256, activation='relu')(x)\n",
    "    x = layers.Dropout(drop_out_rate)(x)\n",
    "    x = layers.Dense(128, activation='relu')(x)\n",
    "    x = layers.Dropout(drop_out_rate)(x)\n",
    "    output_tensor = layers.Dense(len(set(labels))+1, activation='softmax')(x)\n",
    "    model = tf.keras.Model(input_tensor, output_tensor)\n",
    "    return model\n",
    "parameters = {'lr':0.001,'drop_out':0.2}\n",
    "input_shape = (8000,1)\n",
    "conv_model = model(parameters,input_shape)\n",
    "\n",
    "conv_model.compile(loss=keras.losses.categorical_crossentropy,\n",
    "             optimizer=keras.optimizers.Adam(lr = parameters['lr']),\n",
    "             metrics=['accuracy'])\n",
    "conv_model.summary()"
   ]
  },
  {
   "cell_type": "code",
   "execution_count": 12,
   "id": "quick-mixer",
   "metadata": {
    "execution": {
     "iopub.execute_input": "2021-05-09T07:22:06.350075Z",
     "iopub.status.busy": "2021-05-09T07:22:06.349395Z",
     "iopub.status.idle": "2021-05-09T07:43:07.490126Z",
     "shell.execute_reply": "2021-05-09T07:43:07.490786Z"
    },
    "papermill": {
     "duration": 1261.174672,
     "end_time": "2021-05-09T07:43:07.491002",
     "exception": false,
     "start_time": "2021-05-09T07:22:06.316330",
     "status": "completed"
    },
    "tags": []
   },
   "outputs": [
    {
     "name": "stdout",
     "output_type": "stream",
     "text": [
      "Epoch 1/100\n",
      "194/194 [==============================] - 19s 70ms/step - loss: 1.6154 - accuracy: 0.6152 - val_loss: 1.3919 - val_accuracy: 0.6347\n",
      "Epoch 2/100\n",
      "194/194 [==============================] - 13s 65ms/step - loss: 1.3323 - accuracy: 0.6361 - val_loss: 1.1815 - val_accuracy: 0.6512\n",
      "Epoch 3/100\n",
      "194/194 [==============================] - 13s 65ms/step - loss: 1.1560 - accuracy: 0.6480 - val_loss: 1.0365 - val_accuracy: 0.6634\n",
      "Epoch 4/100\n",
      "194/194 [==============================] - 13s 65ms/step - loss: 1.0319 - accuracy: 0.6683 - val_loss: 0.8964 - val_accuracy: 0.7057\n",
      "Epoch 5/100\n",
      "194/194 [==============================] - 12s 64ms/step - loss: 0.9012 - accuracy: 0.7017 - val_loss: 0.8606 - val_accuracy: 0.7226\n",
      "Epoch 6/100\n",
      "194/194 [==============================] - 12s 64ms/step - loss: 0.7765 - accuracy: 0.7399 - val_loss: 0.6737 - val_accuracy: 0.7800\n",
      "Epoch 7/100\n",
      "194/194 [==============================] - 12s 64ms/step - loss: 0.6972 - accuracy: 0.7690 - val_loss: 0.7079 - val_accuracy: 0.7795\n",
      "Epoch 8/100\n",
      "194/194 [==============================] - 12s 64ms/step - loss: 0.6290 - accuracy: 0.7906 - val_loss: 0.6439 - val_accuracy: 0.7986\n",
      "Epoch 9/100\n",
      "194/194 [==============================] - 12s 64ms/step - loss: 0.5570 - accuracy: 0.8138 - val_loss: 0.5787 - val_accuracy: 0.8170\n",
      "Epoch 10/100\n",
      "194/194 [==============================] - 12s 64ms/step - loss: 0.5233 - accuracy: 0.8228 - val_loss: 0.6830 - val_accuracy: 0.7933\n",
      "Epoch 11/100\n",
      "194/194 [==============================] - 13s 64ms/step - loss: 0.4831 - accuracy: 0.8387 - val_loss: 0.6059 - val_accuracy: 0.8180\n",
      "Epoch 12/100\n",
      "194/194 [==============================] - 13s 65ms/step - loss: 0.4443 - accuracy: 0.8494 - val_loss: 0.5784 - val_accuracy: 0.8295\n",
      "Epoch 13/100\n",
      "194/194 [==============================] - 12s 64ms/step - loss: 0.3980 - accuracy: 0.8647 - val_loss: 0.6044 - val_accuracy: 0.8211\n",
      "Epoch 14/100\n",
      "194/194 [==============================] - 13s 65ms/step - loss: 0.3705 - accuracy: 0.8739 - val_loss: 0.6246 - val_accuracy: 0.8259\n",
      "Epoch 15/100\n",
      "194/194 [==============================] - 12s 64ms/step - loss: 0.3442 - accuracy: 0.8828 - val_loss: 0.5612 - val_accuracy: 0.8379\n",
      "Epoch 16/100\n",
      "194/194 [==============================] - 12s 64ms/step - loss: 0.3087 - accuracy: 0.8955 - val_loss: 0.5996 - val_accuracy: 0.8359\n",
      "Epoch 17/100\n",
      "194/194 [==============================] - 12s 64ms/step - loss: 0.3029 - accuracy: 0.9003 - val_loss: 0.6318 - val_accuracy: 0.8336\n",
      "Epoch 18/100\n",
      "194/194 [==============================] - 12s 64ms/step - loss: 0.2783 - accuracy: 0.9064 - val_loss: 0.6311 - val_accuracy: 0.8349\n",
      "Epoch 19/100\n",
      "194/194 [==============================] - 13s 65ms/step - loss: 0.2514 - accuracy: 0.9155 - val_loss: 0.6696 - val_accuracy: 0.8361\n",
      "Epoch 20/100\n",
      "194/194 [==============================] - 13s 64ms/step - loss: 0.2413 - accuracy: 0.9205 - val_loss: 0.7836 - val_accuracy: 0.8236\n",
      "Epoch 21/100\n",
      "194/194 [==============================] - 12s 64ms/step - loss: 0.2271 - accuracy: 0.9229 - val_loss: 0.7184 - val_accuracy: 0.8303\n",
      "Epoch 22/100\n",
      "194/194 [==============================] - 13s 65ms/step - loss: 0.2140 - accuracy: 0.9290 - val_loss: 0.7173 - val_accuracy: 0.8321\n",
      "Epoch 23/100\n",
      "194/194 [==============================] - 12s 64ms/step - loss: 0.2047 - accuracy: 0.9317 - val_loss: 0.7697 - val_accuracy: 0.8295\n",
      "Epoch 24/100\n",
      "194/194 [==============================] - 13s 65ms/step - loss: 0.1965 - accuracy: 0.9344 - val_loss: 0.8828 - val_accuracy: 0.8215\n",
      "Epoch 25/100\n",
      "194/194 [==============================] - 13s 65ms/step - loss: 0.1773 - accuracy: 0.9405 - val_loss: 0.7988 - val_accuracy: 0.8312\n",
      "Epoch 26/100\n",
      "194/194 [==============================] - 13s 65ms/step - loss: 0.1778 - accuracy: 0.9411 - val_loss: 0.7708 - val_accuracy: 0.8298\n",
      "Epoch 27/100\n",
      "194/194 [==============================] - 13s 65ms/step - loss: 0.1622 - accuracy: 0.9453 - val_loss: 0.8320 - val_accuracy: 0.8345\n",
      "Epoch 28/100\n",
      "194/194 [==============================] - 12s 64ms/step - loss: 0.1651 - accuracy: 0.9455 - val_loss: 0.7425 - val_accuracy: 0.8299\n",
      "Epoch 29/100\n",
      "194/194 [==============================] - 12s 64ms/step - loss: 0.1564 - accuracy: 0.9484 - val_loss: 0.9097 - val_accuracy: 0.8287\n",
      "Epoch 30/100\n",
      "194/194 [==============================] - 13s 65ms/step - loss: 0.1505 - accuracy: 0.9507 - val_loss: 0.8619 - val_accuracy: 0.8359\n",
      "Epoch 31/100\n",
      "194/194 [==============================] - 13s 65ms/step - loss: 0.1503 - accuracy: 0.9510 - val_loss: 0.8056 - val_accuracy: 0.8361\n",
      "Epoch 32/100\n",
      "194/194 [==============================] - 13s 65ms/step - loss: 0.1439 - accuracy: 0.9525 - val_loss: 0.9643 - val_accuracy: 0.8272\n",
      "Epoch 33/100\n",
      "194/194 [==============================] - 13s 65ms/step - loss: 0.1405 - accuracy: 0.9542 - val_loss: 0.8295 - val_accuracy: 0.8334\n",
      "Epoch 34/100\n",
      "194/194 [==============================] - 13s 65ms/step - loss: 0.1345 - accuracy: 0.9568 - val_loss: 0.8767 - val_accuracy: 0.8345\n",
      "Epoch 35/100\n",
      "194/194 [==============================] - 13s 65ms/step - loss: 0.1273 - accuracy: 0.9605 - val_loss: 0.9011 - val_accuracy: 0.8352\n",
      "Epoch 36/100\n",
      "194/194 [==============================] - 12s 64ms/step - loss: 0.1266 - accuracy: 0.9604 - val_loss: 0.8797 - val_accuracy: 0.8329\n",
      "Epoch 37/100\n",
      "194/194 [==============================] - 13s 65ms/step - loss: 0.1183 - accuracy: 0.9620 - val_loss: 0.8855 - val_accuracy: 0.8309\n",
      "Epoch 38/100\n",
      "194/194 [==============================] - 13s 65ms/step - loss: 0.1216 - accuracy: 0.9609 - val_loss: 0.9580 - val_accuracy: 0.8310\n",
      "Epoch 39/100\n",
      "194/194 [==============================] - 12s 64ms/step - loss: 0.1135 - accuracy: 0.9636 - val_loss: 1.0618 - val_accuracy: 0.8230\n",
      "Epoch 40/100\n",
      "194/194 [==============================] - 13s 65ms/step - loss: 0.1193 - accuracy: 0.9627 - val_loss: 0.9014 - val_accuracy: 0.8343\n",
      "Epoch 41/100\n",
      "194/194 [==============================] - 13s 65ms/step - loss: 0.1092 - accuracy: 0.9651 - val_loss: 0.9326 - val_accuracy: 0.8336\n",
      "Epoch 42/100\n",
      "194/194 [==============================] - 12s 64ms/step - loss: 0.1044 - accuracy: 0.9663 - val_loss: 0.9731 - val_accuracy: 0.8315\n",
      "Epoch 43/100\n",
      "194/194 [==============================] - 13s 66ms/step - loss: 0.1047 - accuracy: 0.9662 - val_loss: 0.9700 - val_accuracy: 0.8326\n",
      "Epoch 44/100\n",
      "194/194 [==============================] - 13s 64ms/step - loss: 0.1033 - accuracy: 0.9670 - val_loss: 0.9526 - val_accuracy: 0.8278\n",
      "Epoch 45/100\n",
      "194/194 [==============================] - 12s 64ms/step - loss: 0.1077 - accuracy: 0.9652 - val_loss: 1.0069 - val_accuracy: 0.8275\n",
      "Epoch 46/100\n",
      "194/194 [==============================] - 13s 65ms/step - loss: 0.0986 - accuracy: 0.9680 - val_loss: 0.9712 - val_accuracy: 0.8293\n",
      "Epoch 47/100\n",
      "194/194 [==============================] - 12s 64ms/step - loss: 0.0994 - accuracy: 0.9683 - val_loss: 1.0544 - val_accuracy: 0.8287\n",
      "Epoch 48/100\n",
      "194/194 [==============================] - 13s 65ms/step - loss: 0.0959 - accuracy: 0.9694 - val_loss: 0.9905 - val_accuracy: 0.8347\n",
      "Epoch 49/100\n",
      "194/194 [==============================] - 13s 65ms/step - loss: 0.0973 - accuracy: 0.9685 - val_loss: 0.9914 - val_accuracy: 0.8346\n",
      "Epoch 50/100\n",
      "194/194 [==============================] - 12s 64ms/step - loss: 0.0969 - accuracy: 0.9687 - val_loss: 0.9860 - val_accuracy: 0.8290\n",
      "Epoch 51/100\n",
      "194/194 [==============================] - 13s 66ms/step - loss: 0.0915 - accuracy: 0.9704 - val_loss: 0.8869 - val_accuracy: 0.8247\n",
      "Epoch 52/100\n",
      "194/194 [==============================] - 13s 64ms/step - loss: 0.0860 - accuracy: 0.9731 - val_loss: 1.0490 - val_accuracy: 0.8271\n",
      "Epoch 53/100\n",
      "194/194 [==============================] - 13s 65ms/step - loss: 0.0938 - accuracy: 0.9709 - val_loss: 1.1152 - val_accuracy: 0.8203\n",
      "Epoch 54/100\n",
      "194/194 [==============================] - 13s 65ms/step - loss: 0.0894 - accuracy: 0.9716 - val_loss: 1.0203 - val_accuracy: 0.8342\n",
      "Epoch 55/100\n",
      "194/194 [==============================] - 12s 64ms/step - loss: 0.0961 - accuracy: 0.9695 - val_loss: 1.0787 - val_accuracy: 0.8247\n",
      "Epoch 56/100\n",
      "194/194 [==============================] - 13s 65ms/step - loss: 0.0901 - accuracy: 0.9726 - val_loss: 1.1662 - val_accuracy: 0.8225\n",
      "Epoch 57/100\n",
      "194/194 [==============================] - 13s 65ms/step - loss: 0.0908 - accuracy: 0.9703 - val_loss: 1.1058 - val_accuracy: 0.8270\n",
      "Epoch 58/100\n",
      "194/194 [==============================] - 13s 65ms/step - loss: 0.0826 - accuracy: 0.9731 - val_loss: 1.0694 - val_accuracy: 0.8354\n",
      "Epoch 59/100\n",
      "194/194 [==============================] - 13s 65ms/step - loss: 0.0790 - accuracy: 0.9758 - val_loss: 1.1570 - val_accuracy: 0.8262\n",
      "Epoch 60/100\n",
      "194/194 [==============================] - 12s 64ms/step - loss: 0.0807 - accuracy: 0.9742 - val_loss: 1.0114 - val_accuracy: 0.8355\n",
      "Epoch 61/100\n",
      "194/194 [==============================] - 12s 64ms/step - loss: 0.0793 - accuracy: 0.9753 - val_loss: 1.0711 - val_accuracy: 0.8254\n",
      "Epoch 62/100\n",
      "194/194 [==============================] - 13s 65ms/step - loss: 0.0735 - accuracy: 0.9767 - val_loss: 1.0951 - val_accuracy: 0.8256\n",
      "Epoch 63/100\n",
      "194/194 [==============================] - 12s 64ms/step - loss: 0.0758 - accuracy: 0.9770 - val_loss: 1.0726 - val_accuracy: 0.8290\n",
      "Epoch 64/100\n",
      "194/194 [==============================] - 13s 64ms/step - loss: 0.0749 - accuracy: 0.9765 - val_loss: 1.1471 - val_accuracy: 0.8295\n",
      "Epoch 65/100\n",
      "194/194 [==============================] - 13s 65ms/step - loss: 0.0837 - accuracy: 0.9745 - val_loss: 1.1239 - val_accuracy: 0.8279\n",
      "Epoch 66/100\n",
      "194/194 [==============================] - 12s 64ms/step - loss: 0.0762 - accuracy: 0.9759 - val_loss: 1.1500 - val_accuracy: 0.8215\n",
      "Epoch 67/100\n",
      "194/194 [==============================] - 13s 65ms/step - loss: 0.0806 - accuracy: 0.9752 - val_loss: 1.1569 - val_accuracy: 0.8224\n",
      "Epoch 68/100\n",
      "194/194 [==============================] - 13s 65ms/step - loss: 0.0705 - accuracy: 0.9780 - val_loss: 1.1503 - val_accuracy: 0.8289\n",
      "Epoch 69/100\n",
      "194/194 [==============================] - 13s 65ms/step - loss: 0.0745 - accuracy: 0.9763 - val_loss: 1.1510 - val_accuracy: 0.8230\n",
      "Epoch 70/100\n",
      "194/194 [==============================] - 12s 64ms/step - loss: 0.0783 - accuracy: 0.9759 - val_loss: 1.1375 - val_accuracy: 0.8201\n",
      "Epoch 71/100\n",
      "194/194 [==============================] - 13s 65ms/step - loss: 0.0819 - accuracy: 0.9747 - val_loss: 1.1179 - val_accuracy: 0.8216\n",
      "Epoch 72/100\n",
      "194/194 [==============================] - 12s 64ms/step - loss: 0.0685 - accuracy: 0.9793 - val_loss: 1.3226 - val_accuracy: 0.8233\n",
      "Epoch 73/100\n",
      "194/194 [==============================] - 12s 64ms/step - loss: 0.0715 - accuracy: 0.9782 - val_loss: 1.2720 - val_accuracy: 0.8257\n",
      "Epoch 74/100\n",
      "194/194 [==============================] - 13s 65ms/step - loss: 0.0746 - accuracy: 0.9767 - val_loss: 1.1346 - val_accuracy: 0.8298\n",
      "Epoch 75/100\n",
      "194/194 [==============================] - 12s 64ms/step - loss: 0.0697 - accuracy: 0.9788 - val_loss: 1.2414 - val_accuracy: 0.8232\n",
      "Epoch 76/100\n",
      "194/194 [==============================] - 12s 64ms/step - loss: 0.0718 - accuracy: 0.9778 - val_loss: 1.2342 - val_accuracy: 0.8254\n",
      "Epoch 77/100\n",
      "194/194 [==============================] - 13s 66ms/step - loss: 0.0703 - accuracy: 0.9784 - val_loss: 1.1783 - val_accuracy: 0.8270\n",
      "Epoch 78/100\n",
      "194/194 [==============================] - 12s 64ms/step - loss: 0.0620 - accuracy: 0.9812 - val_loss: 1.2995 - val_accuracy: 0.8168\n",
      "Epoch 79/100\n",
      "194/194 [==============================] - 13s 65ms/step - loss: 0.0631 - accuracy: 0.9806 - val_loss: 1.4006 - val_accuracy: 0.8156\n",
      "Epoch 80/100\n",
      "194/194 [==============================] - 13s 65ms/step - loss: 0.0631 - accuracy: 0.9807 - val_loss: 1.2030 - val_accuracy: 0.8272\n",
      "Epoch 81/100\n",
      "194/194 [==============================] - 12s 64ms/step - loss: 0.0703 - accuracy: 0.9788 - val_loss: 1.2430 - val_accuracy: 0.8239\n",
      "Epoch 82/100\n",
      "194/194 [==============================] - 13s 65ms/step - loss: 0.0611 - accuracy: 0.9810 - val_loss: 1.2089 - val_accuracy: 0.8297\n",
      "Epoch 83/100\n",
      "194/194 [==============================] - 13s 65ms/step - loss: 0.0662 - accuracy: 0.9794 - val_loss: 1.3622 - val_accuracy: 0.8257\n",
      "Epoch 84/100\n",
      "194/194 [==============================] - 12s 64ms/step - loss: 0.0662 - accuracy: 0.9791 - val_loss: 1.2198 - val_accuracy: 0.8278\n",
      "Epoch 85/100\n",
      "194/194 [==============================] - 13s 65ms/step - loss: 0.0619 - accuracy: 0.9806 - val_loss: 1.1716 - val_accuracy: 0.8190\n",
      "Epoch 86/100\n",
      "194/194 [==============================] - 12s 64ms/step - loss: 0.0661 - accuracy: 0.9802 - val_loss: 1.1952 - val_accuracy: 0.8184\n",
      "Epoch 87/100\n",
      "194/194 [==============================] - 12s 64ms/step - loss: 0.0677 - accuracy: 0.9803 - val_loss: 1.1745 - val_accuracy: 0.8230\n",
      "Epoch 88/100\n",
      "194/194 [==============================] - 13s 65ms/step - loss: 0.0680 - accuracy: 0.9794 - val_loss: 1.1678 - val_accuracy: 0.8236\n",
      "Epoch 89/100\n",
      "194/194 [==============================] - 13s 65ms/step - loss: 0.0653 - accuracy: 0.9797 - val_loss: 1.4642 - val_accuracy: 0.8164\n",
      "Epoch 90/100\n",
      "194/194 [==============================] - 12s 64ms/step - loss: 0.0614 - accuracy: 0.9816 - val_loss: 1.2067 - val_accuracy: 0.8272\n",
      "Epoch 91/100\n",
      "194/194 [==============================] - 12s 64ms/step - loss: 0.0594 - accuracy: 0.9822 - val_loss: 1.2628 - val_accuracy: 0.8268\n",
      "Epoch 92/100\n",
      "194/194 [==============================] - 12s 64ms/step - loss: 0.0640 - accuracy: 0.9810 - val_loss: 1.1758 - val_accuracy: 0.8287\n",
      "Epoch 93/100\n",
      "194/194 [==============================] - 12s 64ms/step - loss: 0.0579 - accuracy: 0.9832 - val_loss: 1.3641 - val_accuracy: 0.8227\n",
      "Epoch 94/100\n",
      "194/194 [==============================] - 13s 65ms/step - loss: 0.0607 - accuracy: 0.9813 - val_loss: 1.3477 - val_accuracy: 0.8239\n",
      "Epoch 95/100\n",
      "194/194 [==============================] - 12s 64ms/step - loss: 0.0579 - accuracy: 0.9818 - val_loss: 1.3331 - val_accuracy: 0.8241\n",
      "Epoch 96/100\n",
      "194/194 [==============================] - 12s 64ms/step - loss: 0.0599 - accuracy: 0.9815 - val_loss: 1.3112 - val_accuracy: 0.8293\n",
      "Epoch 97/100\n",
      "194/194 [==============================] - 12s 64ms/step - loss: 0.0567 - accuracy: 0.9830 - val_loss: 1.2690 - val_accuracy: 0.8267\n",
      "Epoch 98/100\n",
      "194/194 [==============================] - 13s 65ms/step - loss: 0.0582 - accuracy: 0.9820 - val_loss: 1.2087 - val_accuracy: 0.8254\n",
      "Epoch 99/100\n",
      "194/194 [==============================] - 13s 65ms/step - loss: 0.0600 - accuracy: 0.9809 - val_loss: 1.3876 - val_accuracy: 0.8233\n",
      "Epoch 100/100\n",
      "194/194 [==============================] - 13s 65ms/step - loss: 0.0625 - accuracy: 0.9817 - val_loss: 1.2134 - val_accuracy: 0.8318\n"
     ]
    }
   ],
   "source": [
    "history = conv_model.fit(X_train,y_train,validation_data = (X_test,y_test),batch_size=256,epochs=100,verbose=1)"
   ]
  },
  {
   "cell_type": "code",
   "execution_count": 13,
   "id": "enhanced-rocket",
   "metadata": {
    "execution": {
     "iopub.execute_input": "2021-05-09T07:43:18.270591Z",
     "iopub.status.busy": "2021-05-09T07:43:18.269965Z",
     "iopub.status.idle": "2021-05-09T07:43:18.795193Z",
     "shell.execute_reply": "2021-05-09T07:43:18.794616Z"
    },
    "papermill": {
     "duration": 5.713904,
     "end_time": "2021-05-09T07:43:18.795318",
     "exception": false,
     "start_time": "2021-05-09T07:43:13.081414",
     "status": "completed"
    },
    "tags": []
   },
   "outputs": [
    {
     "data": {
      "image/png": "[encoded data removed]",
      "text/plain": [
       "<Figure size 432x288 with 1 Axes>"
      ]
     },
     "metadata": {
      "needs_background": "light"
     },
     "output_type": "display_data"
    },
    {
     "data": {
      "image/png": "[encoded data removed]",
      "text/plain": [
       "<Figure size 432x288 with 1 Axes>"
      ]
     },
     "metadata": {
      "needs_background": "light"
     },
     "output_type": "display_data"
    }
   ],
   "source": [
    "import matplotlib.pyplot as plt\n",
    "plt.plot(history.history['accuracy'])\n",
    "plt.plot(history.history['val_accuracy'])\n",
    "plt.title(\"Model Accuracy\")\n",
    "plt.ylabel(\"Accuracy\")\n",
    "plt.xlabel(\"Epochs\")\n",
    "plt.legend(['train','test'],loc = 'upper left')\n",
    "plt.show()\n",
    "\n",
    "# summarize history for loss\n",
    "plt.plot(history.history['loss'])\n",
    "plt.plot(history.history['val_loss'])\n",
    "plt.title(\"Model Loss\")\n",
    "plt.ylabel(\"Loss\")\n",
    "plt.xlabel(\"Epoch\")\n",
    "plt.legend(['train','test'],loc = 'upper left')\n",
    "plt.show()\n",
    "from tensorflow import keras\n",
    "keras.models.save_model(conv_model,'speech-recognition.h5')"
   ]
  },
  {
   "cell_type": "markdown",
   "id": "latin-freeze",
   "metadata": {
    "papermill": {
     "duration": 5.246083,
     "end_time": "2021-05-09T07:43:29.026556",
     "exception": false,
     "start_time": "2021-05-09T07:43:23.780473",
     "status": "completed"
    },
    "tags": []
   },
   "source": [
    "## Random Forest"
   ]
  },
  {
   "cell_type": "code",
   "execution_count": 14,
   "id": "seasonal-cornell",
   "metadata": {
    "execution": {
     "iopub.execute_input": "2021-05-09T07:43:39.297183Z",
     "iopub.status.busy": "2021-05-09T07:43:39.293584Z",
     "iopub.status.idle": "2021-05-09T07:43:39.448844Z",
     "shell.execute_reply": "2021-05-09T07:43:39.448385Z"
    },
    "papermill": {
     "duration": 5.39249,
     "end_time": "2021-05-09T07:43:39.448975",
     "exception": false,
     "start_time": "2021-05-09T07:43:34.056485",
     "status": "completed"
    },
    "tags": []
   },
   "outputs": [],
   "source": [
    "training_labels = [np.argmax(i) for i in y_train]\n",
    "testing_labels = [np.argmax(i) for i in y_test]"
   ]
  },
  {
   "cell_type": "code",
   "execution_count": 15,
   "id": "caroline-finnish",
   "metadata": {
    "execution": {
     "iopub.execute_input": "2021-05-09T07:43:50.264619Z",
     "iopub.status.busy": "2021-05-09T07:43:50.262988Z",
     "iopub.status.idle": "2021-05-09T07:43:50.265301Z",
     "shell.execute_reply": "2021-05-09T07:43:50.265729Z"
    },
    "papermill": {
     "duration": 5.661156,
     "end_time": "2021-05-09T07:43:50.265868",
     "exception": false,
     "start_time": "2021-05-09T07:43:44.604712",
     "status": "completed"
    },
    "tags": []
   },
   "outputs": [],
   "source": [
    "train  = X_train.reshape(-1,8000)\n",
    "test  = X_test.reshape(-1,8000)"
   ]
  },
  {
   "cell_type": "code",
   "execution_count": 16,
   "id": "equivalent-civilian",
   "metadata": {
    "execution": {
     "iopub.execute_input": "2021-05-09T07:44:00.651305Z",
     "iopub.status.busy": "2021-05-09T07:44:00.650733Z",
     "iopub.status.idle": "2021-05-09T07:47:54.707427Z",
     "shell.execute_reply": "2021-05-09T07:47:54.708246Z"
    },
    "papermill": {
     "duration": 239.353441,
     "end_time": "2021-05-09T07:47:54.708482",
     "exception": false,
     "start_time": "2021-05-09T07:43:55.355041",
     "status": "completed"
    },
    "tags": []
   },
   "outputs": [
    {
     "data": {
      "text/plain": [
       "RandomForestClassifier(criterion='entropy', max_depth=20, n_estimators=10,\n",
       "                       random_state=42)"
      ]
     },
     "execution_count": 16,
     "metadata": {},
     "output_type": "execute_result"
    }
   ],
   "source": [
    "from sklearn.ensemble import RandomForestClassifier\n",
    "from sklearn.metrics import confusion_matrix\n",
    "classifier = RandomForestClassifier(n_estimators = 10, criterion = 'entropy', random_state = 42,max_depth = 20)\n",
    "classifier.fit(train,training_labels)"
   ]
  },
  {
   "cell_type": "code",
   "execution_count": 17,
   "id": "harmful-voice",
   "metadata": {
    "execution": {
     "iopub.execute_input": "2021-05-09T07:48:04.920367Z",
     "iopub.status.busy": "2021-05-09T07:48:04.919445Z",
     "iopub.status.idle": "2021-05-09T07:48:05.176548Z",
     "shell.execute_reply": "2021-05-09T07:48:05.176992Z"
    },
    "papermill": {
     "duration": 5.545312,
     "end_time": "2021-05-09T07:48:05.177147",
     "exception": false,
     "start_time": "2021-05-09T07:47:59.631835",
     "status": "completed"
    },
    "tags": []
   },
   "outputs": [
    {
     "name": "stdout",
     "output_type": "stream",
     "text": [
      "              precision    recall  f1-score   support\n",
      "\n",
      "           0       0.20      0.02      0.04       338\n",
      "           1       0.16      0.02      0.03       307\n",
      "           2       0.18      0.01      0.01       300\n",
      "           3       0.14      0.01      0.02       336\n",
      "           4       0.24      0.01      0.02       319\n",
      "           5       0.35      0.02      0.04       306\n",
      "           6       0.27      0.02      0.04       330\n",
      "           7       0.33      0.02      0.03       310\n",
      "           8       0.12      0.01      0.01       324\n",
      "           9       0.17      0.01      0.01       323\n",
      "          10       0.64      0.98      0.77      5545\n",
      "\n",
      "    accuracy                           0.63      8738\n",
      "   macro avg       0.25      0.10      0.09      8738\n",
      "weighted avg       0.48      0.63      0.50      8738\n",
      "\n",
      "The accuracy score is: 0.6271457999542229\n"
     ]
    }
   ],
   "source": [
    "from sklearn.metrics import classification_report,accuracy_score,f1_score\n",
    "print(classification_report(testing_labels,classifier.predict(test)))\n",
    "print(\"The accuracy score is:\",accuracy_score(testing_labels,classifier.predict(test)))\n",
    "#print(\"The F! score is:\",f1_score(testing_labels,classifier.predict(test)))"
   ]
  },
  {
   "cell_type": "code",
   "execution_count": null,
   "id": "digital-england",
   "metadata": {
    "papermill": {
     "duration": 5.30554,
     "end_time": "2021-05-09T07:48:16.058340",
     "exception": false,
     "start_time": "2021-05-09T07:48:10.752800",
     "status": "completed"
    },
    "tags": []
   },
   "outputs": [],
   "source": []
  }
 ],
 "metadata": {
  "kernelspec": {
   "display_name": "Python 3",
   "language": "python",
   "name": "python3"
  },
  "language_info": {
   "codemirror_mode": {
    "name": "ipython",
    "version": 3
   },
   "file_extension": ".py",
   "mimetype": "text/x-python",
   "name": "python",
   "nbconvert_exporter": "python",
   "pygments_lexer": "ipython3",
   "version": "3.7.10"
  },
  "papermill": {
   "default_parameters": {},
   "duration": 4521.711612,
   "end_time": "2021-05-09T07:48:25.578030",
   "environment_variables": {},
   "exception": null,
   "input_path": "__notebook__.ipynb",
   "output_path": "__notebook__.ipynb",
   "parameters": {},
   "start_time": "2021-05-09T06:33:03.866418",
   "version": "2.3.3"
  }
 },
 "nbformat": 4,
 "nbformat_minor": 5
}
